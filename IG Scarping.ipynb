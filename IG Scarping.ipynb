{
 "cells": [
  {
   "cell_type": "code",
   "execution_count": 1,
   "metadata": {},
   "outputs": [],
   "source": [
    "from selenium import webdriver \n",
    "import re\n",
    "import pandas as pd \n",
    "from selenium.webdriver.support.ui import WebDriverWait "
   ]
  },
  {
   "cell_type": "code",
   "execution_count": 2,
   "metadata": {},
   "outputs": [],
   "source": [
    "url = \"https://www.instagram.com/win_bambooo/?hl=id\"\n",
    "driver = webdriver.Chrome() \n",
    "driver.get(url)"
   ]
  },
  {
   "cell_type": "code",
   "execution_count": 3,
   "metadata": {},
   "outputs": [],
   "source": [
    "v_username = driver.find_elements_by_xpath('//*[@class = \"_7UhW9       fKFbl yUEEX   KV-D4            fDxYl     \"]')\n",
    "v_data = driver.find_elements_by_xpath('//*[@class = \"g47SY \"]')"
   ]
  },
  {
   "cell_type": "code",
   "execution_count": 4,
   "metadata": {},
   "outputs": [],
   "source": [
    "username = v_username[0].text\n",
    "kiriman = v_data[0].text\n",
    "pengikut = v_data[1].text\n",
    "diikuti = v_data[2].text"
   ]
  },
  {
   "cell_type": "code",
   "execution_count": 5,
   "metadata": {},
   "outputs": [],
   "source": [
    "v_postingan = driver.find_elements_by_xpath('//*[@class = \"v1Nh3 kIKUG  _bz0w\"]/a')\n",
    "\n",
    "postingan = []\n",
    "for i in v_postingan:\n",
    "    postingan.append(i.get_attribute('href'))"
   ]
  },
  {
   "cell_type": "code",
   "execution_count": 6,
   "metadata": {},
   "outputs": [],
   "source": [
    "wait = WebDriverWait(driver, 10)\n",
    "tanggal_komen = []\n",
    "tanggal_posting = []\n",
    "urutan_komen = []\n",
    "user = []\n",
    "komen = []\n",
    "for x in postingan:\n",
    "    driver.get(x)\n",
    "    v_tanggal_posting = driver.find_elements_by_xpath('//*[@class=\"_1o9PC Nzb55\"]')\n",
    "    total = len(v_tanggal_posting)\n",
    "    for x in range(total):\n",
    "        tanggal_posting.append(str(v_tanggal_posting[x].text))\n",
    "    v_caption = driver.find_elements_by_xpath('//*[@class=\"C4VMK\"]')\n",
    "    v_tanggal_komen = driver.find_elements_by_xpath('//*[@class = \"FH9sR Nzb55\"]')\n",
    "    v_user = driver.find_elements_by_class_name('_6lAjh ')\n",
    "    v_komen = driver.find_elements_by_xpath('//*[@class=\"C4VMK\"]/span')\n",
    "    total2 = len(v_caption)\n",
    "    for y in range(total2):\n",
    "        urutan_komen.append(\"komen ke \" +str(y + 1))\n",
    "        tanggal_komen.append(v_tanggal_komen[y].get_attribute(\"title\"))\n",
    "        user.append(str(v_user[y].text))\n",
    "        komen.append(str(v_komen[y].text))"
   ]
  },
  {
   "cell_type": "code",
   "execution_count": 7,
   "metadata": {},
   "outputs": [],
   "source": [
    "df = pd.DataFrame(set(zip(user, komen, tanggal_komen, urutan_komen)))"
   ]
  },
  {
   "cell_type": "code",
   "execution_count": 8,
   "metadata": {},
   "outputs": [],
   "source": [
    "df.columns = [\"User\", \"Komen\", \"Tanggal Komen\", \"Urutan Komen\"]\n",
    "df = df.sort_values(['Tanggal Komen', 'Urutan Komen'])"
   ]
  },
  {
   "cell_type": "code",
   "execution_count": 9,
   "metadata": {},
   "outputs": [
    {
     "data": {
      "text/html": [
       "<div>\n",
       "<style scoped>\n",
       "    .dataframe tbody tr th:only-of-type {\n",
       "        vertical-align: middle;\n",
       "    }\n",
       "\n",
       "    .dataframe tbody tr th {\n",
       "        vertical-align: top;\n",
       "    }\n",
       "\n",
       "    .dataframe thead th {\n",
       "        text-align: right;\n",
       "    }\n",
       "</style>\n",
       "<table border=\"1\" class=\"dataframe\">\n",
       "  <thead>\n",
       "    <tr style=\"text-align: right;\">\n",
       "      <th></th>\n",
       "      <th>User</th>\n",
       "      <th>Komen</th>\n",
       "      <th>Tanggal Komen</th>\n",
       "      <th>Urutan Komen</th>\n",
       "    </tr>\n",
       "  </thead>\n",
       "  <tbody>\n",
       "    <tr>\n",
       "      <th>11</th>\n",
       "      <td>win_bambooo</td>\n",
       "      <td>3/9</td>\n",
       "      <td>Apr 24, 2017</td>\n",
       "      <td>komen ke 1</td>\n",
       "    </tr>\n",
       "    <tr>\n",
       "      <th>20</th>\n",
       "      <td>win_bambooo</td>\n",
       "      <td>5/9</td>\n",
       "      <td>Apr 24, 2017</td>\n",
       "      <td>komen ke 1</td>\n",
       "    </tr>\n",
       "    <tr>\n",
       "      <th>23</th>\n",
       "      <td>win_bambooo</td>\n",
       "      <td>7/9</td>\n",
       "      <td>Apr 24, 2017</td>\n",
       "      <td>komen ke 1</td>\n",
       "    </tr>\n",
       "    <tr>\n",
       "      <th>24</th>\n",
       "      <td>win_bambooo</td>\n",
       "      <td>6/9</td>\n",
       "      <td>Apr 24, 2017</td>\n",
       "      <td>komen ke 1</td>\n",
       "    </tr>\n",
       "    <tr>\n",
       "      <th>26</th>\n",
       "      <td>win_bambooo</td>\n",
       "      <td>2/9</td>\n",
       "      <td>Apr 24, 2017</td>\n",
       "      <td>komen ke 1</td>\n",
       "    </tr>\n",
       "    <tr>\n",
       "      <th>...</th>\n",
       "      <td>...</td>\n",
       "      <td>...</td>\n",
       "      <td>...</td>\n",
       "      <td>...</td>\n",
       "    </tr>\n",
       "    <tr>\n",
       "      <th>59</th>\n",
       "      <td>win_bambooo</td>\n",
       "      <td>AfterBell adalah tempat @win_bambooo @alanhend...</td>\n",
       "      <td>Jun 9, 2019</td>\n",
       "      <td>komen ke 1</td>\n",
       "    </tr>\n",
       "    <tr>\n",
       "      <th>56</th>\n",
       "      <td>win_bambooo</td>\n",
       "      <td>#star #space #selfmadepic #black</td>\n",
       "      <td>May 22, 2017</td>\n",
       "      <td>komen ke 1</td>\n",
       "    </tr>\n",
       "    <tr>\n",
       "      <th>57</th>\n",
       "      <td>win_bambooo</td>\n",
       "      <td>@muttaqinnss . #jurney #life #target #destiny ...</td>\n",
       "      <td>May 22, 2017</td>\n",
       "      <td>komen ke 1</td>\n",
       "    </tr>\n",
       "    <tr>\n",
       "      <th>27</th>\n",
       "      <td>darwisxu</td>\n",
       "      <td>👏👏...</td>\n",
       "      <td>May 27, 2017</td>\n",
       "      <td>komen ke 2</td>\n",
       "    </tr>\n",
       "    <tr>\n",
       "      <th>66</th>\n",
       "      <td>kevinolshop_stuff</td>\n",
       "      <td>salam kenal kaka simak dompet pria</td>\n",
       "      <td>Oct 9, 2018</td>\n",
       "      <td>komen ke 2</td>\n",
       "    </tr>\n",
       "  </tbody>\n",
       "</table>\n",
       "<p>67 rows × 4 columns</p>\n",
       "</div>"
      ],
      "text/plain": [
       "                 User                                              Komen  \\\n",
       "11        win_bambooo                                                3/9   \n",
       "20        win_bambooo                                                5/9   \n",
       "23        win_bambooo                                                7/9   \n",
       "24        win_bambooo                                                6/9   \n",
       "26        win_bambooo                                                2/9   \n",
       "..                ...                                                ...   \n",
       "59        win_bambooo  AfterBell adalah tempat @win_bambooo @alanhend...   \n",
       "56        win_bambooo                   #star #space #selfmadepic #black   \n",
       "57        win_bambooo  @muttaqinnss . #jurney #life #target #destiny ...   \n",
       "27           darwisxu                                              👏👏...   \n",
       "66  kevinolshop_stuff                 salam kenal kaka simak dompet pria   \n",
       "\n",
       "   Tanggal Komen Urutan Komen  \n",
       "11  Apr 24, 2017   komen ke 1  \n",
       "20  Apr 24, 2017   komen ke 1  \n",
       "23  Apr 24, 2017   komen ke 1  \n",
       "24  Apr 24, 2017   komen ke 1  \n",
       "26  Apr 24, 2017   komen ke 1  \n",
       "..           ...          ...  \n",
       "59   Jun 9, 2019   komen ke 1  \n",
       "56  May 22, 2017   komen ke 1  \n",
       "57  May 22, 2017   komen ke 1  \n",
       "27  May 27, 2017   komen ke 2  \n",
       "66   Oct 9, 2018   komen ke 2  \n",
       "\n",
       "[67 rows x 4 columns]"
      ]
     },
     "execution_count": 9,
     "metadata": {},
     "output_type": "execute_result"
    }
   ],
   "source": [
    "df"
   ]
  }
 ],
 "metadata": {
  "kernelspec": {
   "display_name": "Python 3",
   "language": "python",
   "name": "python3"
  },
  "language_info": {
   "codemirror_mode": {
    "name": "ipython",
    "version": 3
   },
   "file_extension": ".py",
   "mimetype": "text/x-python",
   "name": "python",
   "nbconvert_exporter": "python",
   "pygments_lexer": "ipython3",
   "version": "3.7.1"
  }
 },
 "nbformat": 4,
 "nbformat_minor": 2
}
